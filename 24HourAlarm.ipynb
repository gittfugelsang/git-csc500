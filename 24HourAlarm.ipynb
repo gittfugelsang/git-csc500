{
 "cells": [
  {
   "cell_type": "code",
   "execution_count": 1,
   "metadata": {},
   "outputs": [
    {
     "name": "stdout",
     "output_type": "stream",
     "text": [
      "The alarm will go off at 15 on a 24-hour clock.\n"
     ]
    }
   ],
   "source": [
    "def calculate_alarm_time(current_time, hours_to_wait):\n",
    "    total_hours = current_time + hours_to_wait\n",
    "    alarm_time = total_hours % 24\n",
    "    return alarm_time\n",
    "\n",
    "def main():\n",
    "    current_time = int(input(\"Enter the current time(in hours): \"))\n",
    "    hours_to_wait = int(input(\"Enter the number of hours to wait for the alarm: \"))\n",
    "    \n",
    "    alarm_time = calculate_alarm_time(current_time, hours_to_wait)\n",
    "    \n",
    "    print(\"The alarm will go off at\", alarm_time, \"on a 24-hour clock.\")\n",
    "    \n",
    "if __name__ == \"__main__\":\n",
    "    main()"
   ]
  }
 ],
 "metadata": {
  "kernelspec": {
   "display_name": "Python 3",
   "language": "python",
   "name": "python3"
  },
  "language_info": {
   "codemirror_mode": {
    "name": "ipython",
    "version": 3
   },
   "file_extension": ".py",
   "mimetype": "text/x-python",
   "name": "python",
   "nbconvert_exporter": "python",
   "pygments_lexer": "ipython3",
   "version": "3.9.6"
  }
 },
 "nbformat": 4,
 "nbformat_minor": 2
}
