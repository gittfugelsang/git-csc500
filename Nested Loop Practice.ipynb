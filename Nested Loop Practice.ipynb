{
 "cells": [
  {
   "cell_type": "code",
   "execution_count": 5,
   "metadata": {},
   "outputs": [
    {
     "name": "stdout",
     "output_type": "stream",
     "text": [
      "M#a#n#g#o#\n",
      "A#p#p#l#e#\n",
      "G#r#a#p#e#s#\n",
      "B#a#n#a#n#n#a#\n"
     ]
    }
   ],
   "source": [
    "# Nested Loops in Python\n",
    "\n",
    "list_fruits = ['Mango', 'Apple' , 'Grapes', 'Bananna']\n",
    "for fruit in list_fruits:\n",
    "    for i in fruit:\n",
    "        print(i, end='#')\n",
    "    print()"
   ]
  },
  {
   "cell_type": "code",
   "execution_count": 7,
   "metadata": {},
   "outputs": [
    {
     "name": "stdout",
     "output_type": "stream",
     "text": [
      "red apple\n",
      "\n",
      "red veggies\n",
      "\n",
      "red shirt\n",
      "\n",
      "green apple\n",
      "\n",
      "green veggies\n",
      "\n",
      "green shirt\n",
      "\n",
      "blue apple\n",
      "\n",
      "blue veggies\n",
      "\n",
      "blue shirt\n",
      "\n"
     ]
    }
   ],
   "source": [
    "color = [\"red\", \"green\" , \"blue\"]\n",
    "itmes = [\"apple\", \"veggies\", \"shirt\"]\n",
    "\n",
    "for x in color:\n",
    "    for y in itmes:\n",
    "        print(x,y)\n",
    "        print('')"
   ]
  },
  {
   "cell_type": "code",
   "execution_count": 8,
   "metadata": {},
   "outputs": [
    {
     "name": "stdout",
     "output_type": "stream",
     "text": [
      "*\n",
      "*\n",
      "*\n",
      "*\n",
      "*\n",
      "*\n",
      "*\n",
      "*\n",
      "*\n",
      "*\n",
      "*\n",
      "*\n",
      "*\n",
      "*\n",
      "*\n",
      "*\n",
      "*\n",
      "*\n",
      "*\n",
      "*\n",
      "*\n",
      "*\n",
      "*\n",
      "*\n",
      "*\n",
      "*\n",
      "*\n",
      "*\n",
      "*\n",
      "*\n",
      "*\n",
      "*\n",
      "*\n",
      "*\n",
      "*\n",
      "*\n",
      "*\n",
      "*\n",
      "*\n",
      "*\n",
      "*\n",
      "*\n",
      "*\n",
      "*\n",
      "*\n",
      "*\n",
      "*\n",
      "*\n",
      "*\n",
      "*\n",
      "*\n",
      "*\n",
      "*\n",
      "*\n",
      "*\n"
     ]
    }
   ],
   "source": [
    "# Print right traingle\n",
    "for i in range(11):\n",
    "    for j in range(i):\n",
    "        print(\"*\", end = '')\n",
    "        print('')\n",
    "        "
   ]
  },
  {
   "cell_type": "code",
   "execution_count": 9,
   "metadata": {},
   "outputs": [
    {
     "name": "stdout",
     "output_type": "stream",
     "text": [
      "\n",
      "*\n",
      "**\n",
      "***\n",
      "****\n",
      "*****\n",
      "******\n",
      "*******\n",
      "********\n",
      "*********\n",
      "**********\n"
     ]
    }
   ],
   "source": [
    "i = 11\n",
    "while (i > 0):\n",
    "    j = 11\n",
    "    while(j>i):\n",
    "        print(\"*\", end = '')\n",
    "        j = j-1\n",
    "    i = i-1\n",
    "    print()"
   ]
  },
  {
   "cell_type": "code",
   "execution_count": 12,
   "metadata": {},
   "outputs": [
    {
     "name": "stdout",
     "output_type": "stream",
     "text": [
      "[70, 25, 60, 75, 30, 65, 90, 45, 80]\n"
     ]
    }
   ],
   "source": [
    "# Append 2 lists\n",
    "\n",
    "list1 = [10 ,15, 30]\n",
    "list2 = [60, 15, 50]\n",
    "result = []\n",
    "for i in list1:\n",
    "    for j in list2:\n",
    "        result.append(i+j)\n",
    "print(result)"
   ]
  },
  {
   "cell_type": "code",
   "execution_count": null,
   "metadata": {},
   "outputs": [],
   "source": []
  }
 ],
 "metadata": {
  "kernelspec": {
   "display_name": "Python 3",
   "language": "python",
   "name": "python3"
  },
  "language_info": {
   "codemirror_mode": {
    "name": "ipython",
    "version": 3
   },
   "file_extension": ".py",
   "mimetype": "text/x-python",
   "name": "python",
   "nbconvert_exporter": "python",
   "pygments_lexer": "ipython3",
   "version": "3.9.6"
  }
 },
 "nbformat": 4,
 "nbformat_minor": 2
}
