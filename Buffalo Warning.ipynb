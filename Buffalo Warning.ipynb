{
 "cells": [
  {
   "cell_type": "code",
   "execution_count": 7,
   "metadata": {},
   "outputs": [
    {
     "name": "stdout",
     "output_type": "stream",
     "text": [
      "You are tempting fate\n"
     ]
    }
   ],
   "source": [
    "x = int(input(\"Enter distance in feet to buffalo:\"))\n",
    "is_approaching = input(\"Is the buffalo approaching? (yes/no):\")\n",
    "\n",
    "if x < 10 and is_approaching.lower() == 'yes':\n",
    "    print(\"You are too close and the buffalo is approaching! RUN\")\n",
    "elif x < 10 and is_approaching.lower() == 'no':\n",
    "    print(\"You are tempting fate\") \n",
    "elif x == 10:\n",
    "    print(\"You are the master of your own destiny, I suppose\")\n",
    "else:\n",
    "    print(\"Take that buffalo selfie\")\n"
   ]
  }
 ],
 "metadata": {
  "kernelspec": {
   "display_name": "Python 3",
   "language": "python",
   "name": "python3"
  },
  "language_info": {
   "codemirror_mode": {
    "name": "ipython",
    "version": 3
   },
   "file_extension": ".py",
   "mimetype": "text/x-python",
   "name": "python",
   "nbconvert_exporter": "python",
   "pygments_lexer": "ipython3",
   "version": "3.10.12"
  }
 },
 "nbformat": 4,
 "nbformat_minor": 2
}
