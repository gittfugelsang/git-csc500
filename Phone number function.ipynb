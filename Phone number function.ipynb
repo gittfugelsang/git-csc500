{
 "cells": [
  {
   "cell_type": "code",
   "execution_count": 1,
   "metadata": {},
   "outputs": [],
   "source": [
    "from typing import List\n",
    "\n",
    "def calculate_average(numbers: List[float]) -> float:\n",
    "    total = sum(numbers)\n",
    "    count = len(numbers)\n",
    "    if count > 0:\n",
    "        return total / count\n",
    "    else:\n",
    "        return 0.0"
   ]
  },
  {
   "cell_type": "code",
   "execution_count": 2,
   "metadata": {},
   "outputs": [
    {
     "name": "stdout",
     "output_type": "stream",
     "text": [
      "The average of [1.5, 2.5, 3.5, 4.5, 5.5] is 3.5\n"
     ]
    }
   ],
   "source": [
    "# Example list of numbers\n",
    "numbers = [1.5, 2.5, 3.5, 4.5, 5.5]\n",
    "\n",
    "# Calculate the average\n",
    "average = calculate_average(numbers)\n",
    "\n",
    "# Print the result\n",
    "print(f\"The average of {numbers} is {average}\")"
   ]
  },
  {
   "cell_type": "code",
   "execution_count": 4,
   "metadata": {},
   "outputs": [],
   "source": [
    "def printPhoneNumber(phone_number):\n",
    "    formatted_number = f\"({phone_number[:3]}) {phone_number[3:6]} - {phone_number[6:]}\"\n",
    "    print(formatted_number)"
   ]
  },
  {
   "cell_type": "code",
   "execution_count": 6,
   "metadata": {},
   "outputs": [
    {
     "name": "stdout",
     "output_type": "stream",
     "text": [
      "(718) 738 - 1484\n"
     ]
    }
   ],
   "source": [
    "phone_number = \"7187381484\"\n",
    "printPhoneNumber(phone_number)"
   ]
  },
  {
   "cell_type": "code",
   "execution_count": null,
   "metadata": {},
   "outputs": [],
   "source": []
  }
 ],
 "metadata": {
  "kernelspec": {
   "display_name": "Python 3",
   "language": "python",
   "name": "python3"
  },
  "language_info": {
   "codemirror_mode": {
    "name": "ipython",
    "version": 3
   },
   "file_extension": ".py",
   "mimetype": "text/x-python",
   "name": "python",
   "nbconvert_exporter": "python",
   "pygments_lexer": "ipython3",
   "version": "3.9.6"
  }
 },
 "nbformat": 4,
 "nbformat_minor": 2
}
