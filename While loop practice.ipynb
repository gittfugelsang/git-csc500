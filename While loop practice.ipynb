{
 "cells": [
  {
   "cell_type": "code",
   "execution_count": 7,
   "metadata": {},
   "outputs": [
    {
     "name": "stdout",
     "output_type": "stream",
     "text": [
      "# 1\n",
      "\n",
      "# 2\n",
      "\n",
      "# 3\n",
      "\n",
      "# 4\n",
      "\n",
      "# 5\n",
      "\n",
      "# 6\n",
      "\n",
      "# 7\n",
      "\n",
      "# 8\n",
      "\n",
      "# 9\n",
      "\n",
      "# 10\n",
      "\n"
     ]
    }
   ],
   "source": [
    "i = 0\n",
    "while i < 10:\n",
    "    i = i+1\n",
    "    print('#',i)\n",
    "    print()\n"
   ]
  },
  {
   "cell_type": "code",
   "execution_count": 8,
   "metadata": {},
   "outputs": [
    {
     "name": "stdout",
     "output_type": "stream",
     "text": [
      "The condition is true\n",
      "The condition is true\n",
      "The condition is true\n",
      "The condition is true\n",
      "The condition is true\n",
      "The condition is true\n",
      "End of loop\n"
     ]
    }
   ],
   "source": [
    "count = 0\n",
    "while count <= 5:\n",
    "    print(\"The condition is true\")\n",
    "    count = count + 1\n",
    "print(\"End of loop\")"
   ]
  },
  {
   "cell_type": "code",
   "execution_count": 11,
   "metadata": {},
   "outputs": [
    {
     "name": "stdout",
     "output_type": "stream",
     "text": [
      "Please type your name.\n",
      "Please type your name.\n",
      "Please type your name.\n",
      "Thank you, you typed the correct name.\n"
     ]
    }
   ],
   "source": [
    "while True:\n",
    "    print(\"Please type your name.\")\n",
    "    name = input()\n",
    "    if name == 'Gilly':\n",
    "        break\n",
    "print('Thank you, you typed the correct name.')\n"
   ]
  },
  {
   "cell_type": "code",
   "execution_count": 12,
   "metadata": {},
   "outputs": [
    {
     "name": "stdout",
     "output_type": "stream",
     "text": [
      "28 is divisible by both 4 and 7\n"
     ]
    }
   ],
   "source": [
    "# LCM  of 4 and 7\n",
    "\n",
    "x = 0\n",
    "while True:\n",
    "    x += 1\n",
    "    if not(x % 4 or x % 7):\n",
    "        break\n",
    "print(x, 'is divisible by both 4 and 7')"
   ]
  },
  {
   "cell_type": "code",
   "execution_count": 14,
   "metadata": {},
   "outputs": [
    {
     "name": "stdout",
     "output_type": "stream",
     "text": [
      "1\n",
      "2\n",
      "3\n",
      "4\n",
      "5\n",
      "7\n",
      "8\n",
      "9\n",
      "10\n"
     ]
    }
   ],
   "source": [
    "i = 0\n",
    "while i < 10:\n",
    "    i += 1\n",
    "    if i == 6:\n",
    "        continue\n",
    "    print(i)"
   ]
  },
  {
   "cell_type": "code",
   "execution_count": 1,
   "metadata": {},
   "outputs": [
    {
     "name": "stdout",
     "output_type": "stream",
     "text": [
      "1\n",
      "2\n",
      "3\n",
      "4\n",
      "i is not less than 5\n"
     ]
    }
   ],
   "source": [
    "i = 1\n",
    "while i < 5:\n",
    "    print(i)\n",
    "    i += 1\n",
    "else:\n",
    "    print(\"i is not less than 5\")"
   ]
  },
  {
   "cell_type": "code",
   "execution_count": 2,
   "metadata": {},
   "outputs": [
    {
     "name": "stdout",
     "output_type": "stream",
     "text": [
      "5\n",
      "4\n",
      "3\n",
      "2\n",
      "1\n",
      "There are no elements left in the list\n"
     ]
    }
   ],
   "source": [
    "a  = [1, 2, 3, 4, 5]\n",
    "while a:\n",
    "    print(a.pop())\n",
    "else:\n",
    "    print(\"There are no elements left in the list\")"
   ]
  },
  {
   "cell_type": "code",
   "execution_count": 5,
   "metadata": {},
   "outputs": [
    {
     "ename": "ValueError",
     "evalue": "invalid literal for int() with base 10: ''",
     "output_type": "error",
     "traceback": [
      "\u001b[0;31m---------------------------------------------------------------------------\u001b[0m",
      "\u001b[0;31mValueError\u001b[0m                                Traceback (most recent call last)",
      "Cell \u001b[0;32mIn[5], line 7\u001b[0m\n\u001b[1;32m      4\u001b[0m \u001b[38;5;28msum\u001b[39m \u001b[38;5;241m=\u001b[39m \u001b[38;5;241m0\u001b[39m\n\u001b[1;32m      6\u001b[0m \u001b[38;5;28;01mwhile\u001b[39;00m num \u001b[38;5;241m>\u001b[39m\u001b[38;5;241m=\u001b[39m \u001b[38;5;241m0\u001b[39m:\n\u001b[0;32m----> 7\u001b[0m     num \u001b[38;5;241m=\u001b[39m \u001b[38;5;28;43mint\u001b[39;49m\u001b[43m(\u001b[49m\u001b[38;5;28;43minput\u001b[39;49m\u001b[43m(\u001b[49m\u001b[38;5;124;43m'\u001b[39;49m\u001b[38;5;124;43mEnter any positive number\u001b[39;49m\u001b[38;5;124;43m'\u001b[39;49m\u001b[43m)\u001b[49m\u001b[43m)\u001b[49m\n\u001b[1;32m      8\u001b[0m     \u001b[38;5;28;01mif\u001b[39;00m num \u001b[38;5;241m>\u001b[39m\u001b[38;5;241m=\u001b[39m \u001b[38;5;241m0\u001b[39m:\n\u001b[1;32m      9\u001b[0m         count \u001b[38;5;241m=\u001b[39m count\u001b[38;5;241m+\u001b[39m\u001b[38;5;241m1\u001b[39m\n",
      "\u001b[0;31mValueError\u001b[0m: invalid literal for int() with base 10: ''"
     ]
    }
   ],
   "source": [
    "#AVG of positive numbers\n",
    "num = 0 \n",
    "count = 0\n",
    "sum = 0\n",
    "\n",
    "while num >= 0:\n",
    "    num = int(input('Enter any positive number'))\n",
    "    if num >= 0:\n",
    "        count = count+1\n",
    "        sum = sum + num\n",
    "avg = sum/count\n",
    "print('Total sum of numbers: ', sum, ',Average: ', avg)\n"
   ]
  },
  {
   "cell_type": "code",
   "execution_count": 10,
   "metadata": {},
   "outputs": [
    {
     "name": "stdout",
     "output_type": "stream",
     "text": [
      "6\n"
     ]
    },
    {
     "ename": "SyntaxError",
     "evalue": "'break' outside loop (3331057189.py, line 15)",
     "output_type": "error",
     "traceback": [
      "\u001b[0;36m  Cell \u001b[0;32mIn[10], line 15\u001b[0;36m\u001b[0m\n\u001b[0;31m    break\u001b[0m\n\u001b[0m    ^\u001b[0m\n\u001b[0;31mSyntaxError\u001b[0m\u001b[0;31m:\u001b[0m 'break' outside loop\n"
     ]
    }
   ],
   "source": [
    "# Guessing game\n",
    "import random\n",
    "n = random.randint(1,100)\n",
    "print(n)\n",
    "guess = int(input('Enter an integer between 1 adn 100:'))\n",
    "while n != \"guess\":\n",
    "    if guess < n:\n",
    "        print(\"Your guess is low\")\n",
    "        guess = int(input('Enter an integer between 1 and 100:'))\n",
    "    elif guess > n:\n",
    "        print (\"Your guess is high\")\n",
    "        guess = int(input('Enter an integer between 1 and 100:'))\n",
    "else:\n",
    "    print(\"You guessed correctly!\")\n",
    "    break\n",
    "print()\n"
   ]
  },
  {
   "cell_type": "code",
   "execution_count": 11,
   "metadata": {},
   "outputs": [
    {
     "name": "stdout",
     "output_type": "stream",
     "text": [
      "89\n"
     ]
    },
    {
     "ename": "SyntaxError",
     "evalue": "'break' outside loop (226995405.py, line 15)",
     "output_type": "error",
     "traceback": [
      "\u001b[0;36m  Cell \u001b[0;32mIn[11], line 15\u001b[0;36m\u001b[0m\n\u001b[0;31m    break\u001b[0m\n\u001b[0m    ^\u001b[0m\n\u001b[0;31mSyntaxError\u001b[0m\u001b[0;31m:\u001b[0m 'break' outside loop\n"
     ]
    }
   ],
   "source": [
    "# Guessing game\n",
    "import random\n",
    "n = random.randint(1,100)\n",
    "print(n)\n",
    "guess = int(input('Enter an integer between 1 adn 100:'))\n",
    "while n != \"guess\":\n",
    "    if guess < n:\n",
    "        print(\"Your guess is low\")\n",
    "        guess = int(input('Enter an integer between 1 and 100:'))\n",
    "    elif guess > n:\n",
    "        print (\"Your guess is high\")\n",
    "        guess = int(input('Enter an integer between 1 and 100:'))\n",
    "else:\n",
    "    print(\"You guessed correctly!\")\n",
    "    break\n",
    "print()\n",
    "\n"
   ]
  },
  {
   "cell_type": "code",
   "execution_count": null,
   "metadata": {},
   "outputs": [],
   "source": []
  }
 ],
 "metadata": {
  "kernelspec": {
   "display_name": "Python 3",
   "language": "python",
   "name": "python3"
  },
  "language_info": {
   "codemirror_mode": {
    "name": "ipython",
    "version": 3
   },
   "file_extension": ".py",
   "mimetype": "text/x-python",
   "name": "python",
   "nbconvert_exporter": "python",
   "pygments_lexer": "ipython3",
   "version": "3.9.6"
  }
 },
 "nbformat": 4,
 "nbformat_minor": 2
}
