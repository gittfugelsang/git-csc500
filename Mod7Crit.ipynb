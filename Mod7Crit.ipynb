{
 "cells": [
  {
   "cell_type": "code",
   "execution_count": null,
   "metadata": {},
   "outputs": [],
   "source": []
  },
  {
   "cell_type": "code",
   "execution_count": 3,
   "metadata": {},
   "outputs": [
    {
     "name": "stdout",
     "output_type": "stream",
     "text": [
      "Course number not found.\n"
     ]
    }
   ],
   "source": [
    "# A dictionary with course numbers as keys and room numbers as values\n",
    "course_rooms = {\n",
    "    \"CSC101\": 3004,\n",
    "    \"CSC102\": 4501,\n",
    "    \"CSC103\": 6755,\n",
    "    \"NET110\": 1244,\n",
    "    \"COM241\": 1411\n",
    "}\n",
    "\n",
    "# A dictionary with course numbers as keys and instructors as values\n",
    "course_instructors = {\n",
    "    \"CSC101\": \"Haynes\",\n",
    "    \"CSC102\": \"Alvarado\",\n",
    "    \"CSC103\": \"Rich\",\n",
    "    \"NET110\": \"Burke\",\n",
    "    \"COM241\": \"Lee\"\n",
    "}\n",
    "\n",
    "# A dictionary with course numbers as keys and meeting times as values\n",
    "course_times = {\n",
    "    \"CSC101\": \"8:00 a.m.\",\n",
    "    \"CSC102\": \"9:00 a.m.\",\n",
    "    \"CSC103\": \"10:00 a.m.\",\n",
    "    \"NET110\": \"11:00 a.m.\",\n",
    "    \"COM241\": \"1:00 p.m.\"\n",
    "}\n",
    "\n",
    "# Function to get course details\n",
    "def get_course_details(course_number):\n",
    "    room = course_rooms.get(course_number)          # Retrieve the room number, or None if not found\n",
    "    instructor = course_instructors.get(course_number)  # Retrieve the instructor, or None if not found\n",
    "    time = course_times.get(course_number)          # Retrieve the meeting time, or None if not found\n",
    "    \n",
    "    if room and instructor and time:\n",
    "        print(f\"Course Number: {course_number}\")\n",
    "        print(f\"Room Number: {room}\")\n",
    "        print(f\"Instructor: {instructor}\")\n",
    "        print(f\"Meeting Time: {time}\")\n",
    "    else:\n",
    "        print(\"Course number not found.\")\n",
    "\n",
    "# Asking the user to enter a course number\n",
    "user_input = input(\"Enter a course number: \").strip().upper()  # Clean and standardize user input\n",
    "get_course_details(user_input)  # Display course details\n",
    "\n",
    "\n"
   ]
  },
  {
   "cell_type": "code",
   "execution_count": null,
   "metadata": {},
   "outputs": [],
   "source": []
  }
 ],
 "metadata": {
  "kernelspec": {
   "display_name": "Python 3",
   "language": "python",
   "name": "python3"
  },
  "language_info": {
   "codemirror_mode": {
    "name": "ipython",
    "version": 3
   },
   "file_extension": ".py",
   "mimetype": "text/x-python",
   "name": "python",
   "nbconvert_exporter": "python",
   "pygments_lexer": "ipython3",
   "version": "3.9.6"
  }
 },
 "nbformat": 4,
 "nbformat_minor": 2
}
