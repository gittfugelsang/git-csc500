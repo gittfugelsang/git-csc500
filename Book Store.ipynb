{
 "cells": [
  {
   "cell_type": "code",
   "execution_count": 21,
   "metadata": {},
   "outputs": [
    {
     "data": {
      "text/plain": [
       "True"
      ]
     },
     "execution_count": 21,
     "metadata": {},
     "output_type": "execute_result"
    }
   ],
   "source": []
  },
  {
   "cell_type": "code",
   "execution_count": 22,
   "metadata": {},
   "outputs": [
    {
     "name": "stdout",
     "output_type": "stream",
     "text": [
      "Invalid input.  Please enter a whole number.\n"
     ]
    }
   ],
   "source": [
    "def calculate_points(books_purchased):\n",
    "    # Determine points based on the number of books purchased\n",
    "    if books_purchased == 0:\n",
    "        return 0\n",
    "    elif books_purchased == 2 or books_purchased == 3:\n",
    "        return 5\n",
    "    elif books_purchased == 4 or books_purchased == 5:\n",
    "        return 15\n",
    "    elif books_purchased == 6 or books_purchased == 7:\n",
    "        return 30\n",
    "    elif books_purchased >= 8:\n",
    "        return 60\n",
    "    else:\n",
    "        return \"No points system for this number of books\"\n",
    "\n",
    "def main():\n",
    "    # Ask the user to enter the number of books purchased\n",
    "    try:\n",
    "        books_purchased = int(input(\"Enter the number of books you have purchased this month: \"))\n",
    "        if books_purchased < 0:\n",
    "            print(\"Please enter a non-negative number.\")\n",
    "        else:\n",
    "            points = calculate_points(books_purchased)\n",
    "            # Display the number of points awarded\n",
    "            print(f\"You have earned {points} points.\")\n",
    "    except ValueError:\n",
    "        print(\"Invalid input.  Please enter a whole number.\")       \n",
    "\n",
    "# Run the main function\n",
    "if __name__ == \"__main__\":\n",
    "    main()\n",
    "\n"
   ]
  }
 ],
 "metadata": {
  "kernelspec": {
   "display_name": "Python 3",
   "language": "python",
   "name": "python3"
  },
  "language_info": {
   "codemirror_mode": {
    "name": "ipython",
    "version": 3
   },
   "file_extension": ".py",
   "mimetype": "text/x-python",
   "name": "python",
   "nbconvert_exporter": "python",
   "pygments_lexer": "ipython3",
   "version": "3.10.12"
  }
 },
 "nbformat": 4,
 "nbformat_minor": 2
}
