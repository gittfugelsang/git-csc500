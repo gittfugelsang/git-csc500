{
 "cells": [
  {
   "cell_type": "code",
   "execution_count": 1,
   "metadata": {},
   "outputs": [
    {
     "name": "stdout",
     "output_type": "stream",
     "text": [
      "Food Charge: $ 17.37\n",
      "Tip (18%): $ 3.13\n",
      "Tax (7%): $ 1.22\n",
      "Total Cost: $ 21.71\n"
     ]
    }
   ],
   "source": [
    "# Function to calculate the total cost of the meal\n",
    "def calculate_total_meal_cost():\n",
    "    # Ask the user for the charge of the food\n",
    "    food_charge = float(input(\"Enter the charge for the food: $\"))\n",
    "    \n",
    "    # Calculate the tip at 18% of the food charge\n",
    "    tip = 0.18 * food_charge\n",
    "    \n",
    "    # Calculate the sales tax at 7% of the food charge\n",
    "    tax = 0.07 * food_charge\n",
    "    \n",
    "    # Calculate the total cost\n",
    "    total_cost = food_charge + tip + tax\n",
    "    \n",
    "    # Display the results\n",
    "    print(\"Food Charge: $\", format(food_charge, '.2f'))\n",
    "    print(\"Tip (18%): $\", format(tip, '.2f'))\n",
    "    print(\"Tax (7%): $\", format(tax, '.2f'))\n",
    "    print(\"Total Cost: $\", format(total_cost, '.2f'))\n",
    "\n",
    "# Call the function to run the program\n",
    "calculate_total_meal_cost()\n"
   ]
  }
 ],
 "metadata": {
  "kernelspec": {
   "display_name": "Python 3",
   "language": "python",
   "name": "python3"
  },
  "language_info": {
   "codemirror_mode": {
    "name": "ipython",
    "version": 3
   },
   "file_extension": ".py",
   "mimetype": "text/x-python",
   "name": "python",
   "nbconvert_exporter": "python",
   "pygments_lexer": "ipython3",
   "version": "3.9.6"
  }
 },
 "nbformat": 4,
 "nbformat_minor": 2
}
