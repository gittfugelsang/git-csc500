{
 "cells": [
  {
   "cell_type": "code",
   "execution_count": 11,
   "metadata": {},
   "outputs": [],
   "source": [
    "#Syntax\n",
    "#for iterator_var in sequecnce:\n",
    "#    statement(s)s\\\n",
    "#REST OF CODE    "
   ]
  },
  {
   "cell_type": "code",
   "execution_count": 12,
   "metadata": {},
   "outputs": [
    {
     "name": "stdout",
     "output_type": "stream",
     "text": [
      "S\n",
      "i\n",
      "m\n",
      "p\n",
      "l\n",
      "i\n",
      "l\n",
      "e\n",
      "a\n",
      "r\n",
      "n\n"
     ]
    }
   ],
   "source": [
    "s = 'Simplilearn'\n",
    "for i in s:\n",
    "    print(i)"
   ]
  },
  {
   "cell_type": "code",
   "execution_count": 13,
   "metadata": {},
   "outputs": [
    {
     "name": "stdout",
     "output_type": "stream",
     "text": [
      "S*i*m*p*l*i*l*e*a*r*n*"
     ]
    }
   ],
   "source": [
    "s = 'Simplilearn'\n",
    "for i in s:\n",
    "    print(i, end=\"*\")"
   ]
  },
  {
   "cell_type": "code",
   "execution_count": 14,
   "metadata": {},
   "outputs": [
    {
     "name": "stdout",
     "output_type": "stream",
     "text": [
      "Java\n",
      "Ruby\n",
      "Python\n",
      "HTML\n"
     ]
    }
   ],
   "source": [
    "# Use for Loop in a List\n",
    "programming = [\"Java\", \"Ruby\", \"Python\", \"HTML\"]\n",
    "for iter in programming:\n",
    "    print(iter)"
   ]
  },
  {
   "cell_type": "code",
   "execution_count": 15,
   "metadata": {},
   "outputs": [
    {
     "name": "stdout",
     "output_type": "stream",
     "text": [
      "Sum = 150\n",
      "Average = 30.0\n"
     ]
    }
   ],
   "source": [
    "# Find the avg of a List of numbers\n",
    "list_num = [20,25,10,50,45]\n",
    "sum = 0\n",
    "for i in list_num:\n",
    "    sum = sum + i\n",
    "print(\"Sum =\", sum)\n",
    "print(\"Average =\", sum/len(list_num))"
   ]
  },
  {
   "cell_type": "code",
   "execution_count": 17,
   "metadata": {},
   "outputs": [
    {
     "name": "stdout",
     "output_type": "stream",
     "text": [
      "255\n"
     ]
    }
   ],
   "source": [
    "# For Loop using a tuple\n",
    "num = (30, 45, 60, 50, 70)\n",
    "sum = 0 \n",
    "for i in num:\n",
    "    sum = sum + i\n",
    "print(sum)"
   ]
  },
  {
   "cell_type": "code",
   "execution_count": 18,
   "metadata": {},
   "outputs": [
    {
     "name": "stdout",
     "output_type": "stream",
     "text": [
      "1\n",
      "2\n",
      "3\n",
      "4\n",
      "5\n",
      "6\n",
      "7\n",
      "8\n",
      "9\n"
     ]
    }
   ],
   "source": [
    "#range function\n",
    "for i in range(1, 10):\n",
    "    print(i)"
   ]
  },
  {
   "cell_type": "code",
   "execution_count": 20,
   "metadata": {},
   "outputs": [
    {
     "name": "stdout",
     "output_type": "stream",
     "text": [
      "1*2*3*4*5*6*7*8*9*10*11*12*13*14*15*16*17*18*19*"
     ]
    }
   ],
   "source": [
    "for i in range(1, 20):\n",
    "    print(i, end=\"*\")"
   ]
  },
  {
   "cell_type": "code",
   "execution_count": 23,
   "metadata": {},
   "outputs": [
    {
     "name": "stdout",
     "output_type": "stream",
     "text": [
      "0\n",
      "1\n",
      "2\n",
      "3\n",
      "4\n",
      "5\n",
      "6\n",
      "7\n",
      "8\n",
      "9\n"
     ]
    }
   ],
   "source": [
    "for i in range(0, 10):\n",
    "    print(i)"
   ]
  },
  {
   "cell_type": "code",
   "execution_count": 27,
   "metadata": {},
   "outputs": [
    {
     "name": "stdout",
     "output_type": "stream",
     "text": [
      "Display values with a step size of 2: 0\n",
      "Display values with a step size of 2: 2\n",
      "Display values with a step size of 2: 4\n",
      "Display values with a step size of 2: 6\n",
      "Display values with a step size of 2: 8\n"
     ]
    }
   ],
   "source": [
    "for i in range(0, 10, 2):\n",
    "    print(\"Display values with a step size of 2:\", i)"
   ]
  },
  {
   "cell_type": "code",
   "execution_count": 31,
   "metadata": {},
   "outputs": [
    {
     "name": "stdout",
     "output_type": "stream",
     "text": [
      "5 * 1 = 5\n",
      "5 * 2 = 10\n",
      "5 * 3 = 15\n",
      "5 * 4 = 20\n",
      "5 * 5 = 25\n",
      "5 * 6 = 30\n",
      "5 * 7 = 35\n",
      "5 * 8 = 40\n",
      "5 * 9 = 45\n",
      "5 * 10 = 50\n"
     ]
    }
   ],
   "source": [
    "# Program to print table of a given number\n",
    "n = int(input(\"Enter the number \"))\n",
    "for i in range(1,11):\n",
    "    mul = n * i\n",
    "    print(n, \"*\", i, \"=\", mul)\n"
   ]
  },
  {
   "cell_type": "code",
   "execution_count": 33,
   "metadata": {},
   "outputs": [
    {
     "name": "stdout",
     "output_type": "stream",
     "text": [
      "Hello C++\n",
      "Hello Java\n",
      "Hello Python\n",
      "Hello R\n"
     ]
    }
   ],
   "source": [
    "list2 = ['C++', 'Java', 'Python', 'R']\n",
    "for i in range(len(list2)):\n",
    "    print(\"Hello\", list2[i])"
   ]
  },
  {
   "cell_type": "code",
   "execution_count": 36,
   "metadata": {},
   "outputs": [
    {
     "name": "stdout",
     "output_type": "stream",
     "text": [
      "We will display each letter of Apple\n",
      "A\n",
      "p\n",
      "p\n",
      "l\n",
      "e\n",
      "We will display each letter of Google\n",
      "G\n",
      "o\n",
      "o\n",
      "g\n",
      "l\n",
      "e\n",
      "We will display each letter of PWC\n",
      "P\n",
      "W\n",
      "C\n",
      "We will display each letter of Uber\n",
      "U\n",
      "b\n",
      "e\n",
      "r\n"
     ]
    }
   ],
   "source": [
    "# Nested for Loop\n",
    "companies = [\"Apple\", \"Google\", \"PWC\", \"Uber\"]\n",
    "for i in companies:\n",
    "    print(\"We will display each letter of \"+i)\n",
    "    for letter in i:\n",
    "        print(letter)"
   ]
  },
  {
   "cell_type": "code",
   "execution_count": 41,
   "metadata": {},
   "outputs": [
    {
     "name": "stdout",
     "output_type": "stream",
     "text": [
      "0\n",
      "3\n",
      "6\n",
      "9\n",
      "The loop has completed\n"
     ]
    }
   ],
   "source": [
    "# For loop with else clause\n",
    "for i in range(0,10,3):\n",
    "    print(i)\n",
    "else:\n",
    "    print(\"The loop has completed\")"
   ]
  },
  {
   "cell_type": "code",
   "execution_count": 43,
   "metadata": {},
   "outputs": [
    {
     "name": "stdout",
     "output_type": "stream",
     "text": [
      "1\n",
      "2\n",
      "3\n",
      "4\n",
      "5\n"
     ]
    }
   ],
   "source": [
    "#  Break \n",
    "for i in range(1, 10):\n",
    "    if (i==6):\n",
    "        break\n",
    "    print(i)"
   ]
  },
  {
   "cell_type": "code",
   "execution_count": 44,
   "metadata": {},
   "outputs": [
    {
     "name": "stdout",
     "output_type": "stream",
     "text": [
      "1\n",
      "2\n",
      "3\n",
      "4\n",
      "5\n",
      "7\n",
      "8\n",
      "9\n"
     ]
    }
   ],
   "source": [
    "# Continue\n",
    "for i in range(1, 10):\n",
    "    if (i==6):\n",
    "        continue\n",
    "    print(i)"
   ]
  },
  {
   "cell_type": "code",
   "execution_count": 50,
   "metadata": {},
   "outputs": [
    {
     "name": "stdout",
     "output_type": "stream",
     "text": [
      "No player with that name found.\n",
      "No player with that name found.\n",
      "No player with that name found.\n"
     ]
    }
   ],
   "source": [
    "# Program to display the total goals a player has scored\n",
    "player_name = \"Messi\"\n",
    "goals = {'Edison': 14, 'Bernat': 3,'Carmello': 7}\n",
    "\n",
    "for player in goals:\n",
    "    if player == player_name:\n",
    "        print(goals[player])\n",
    "        break\n",
    "    else:\n",
    "        print ('No player with that name found.')"
   ]
  },
  {
   "cell_type": "code",
   "execution_count": 55,
   "metadata": {},
   "outputs": [
    {
     "name": "stdout",
     "output_type": "stream",
     "text": [
      "No player with that name found.\n",
      "No player with that name found.\n",
      "No player with that name found.\n"
     ]
    }
   ],
   "source": [
    "# Program to display the total goals a player has scored\n",
    "player_name = \"Messi\"\n",
    "goals = {'Edison': 14, 'Bernat': 3,'Carmello': 7}\n",
    "\n",
    "for player in goals:\n",
    "    if player == player_name:\n",
    "        print(goals[player])\n",
    "        break\n",
    "    else:\n",
    "        print('No player with that name found.')\n"
   ]
  },
  {
   "cell_type": "code",
   "execution_count": 57,
   "metadata": {},
   "outputs": [
    {
     "name": "stdout",
     "output_type": "stream",
     "text": [
      "[8, 125, 343, 64, 512, 216]\n"
     ]
    }
   ],
   "source": [
    "# Cube of number\n",
    "num = [2, 5, 7,4,8,6]\n",
    "cube = []\n",
    "for i in num:\n",
    "    cube.append(i**3)\n",
    "print(cube)"
   ]
  },
  {
   "cell_type": "code",
   "execution_count": 60,
   "metadata": {},
   "outputs": [
    {
     "name": "stdout",
     "output_type": "stream",
     "text": [
      "*\n",
      "**\n",
      "***\n",
      "****\n",
      "*****\n",
      "******\n",
      "*******\n",
      "********\n",
      "*********\n",
      "**********\n",
      "***********\n",
      "************\n",
      "*************\n",
      "**************\n",
      "***************\n",
      "****************\n",
      "*****************\n",
      "******************\n",
      "*******************\n",
      "********************\n"
     ]
    }
   ],
   "source": [
    "# Pattern printing\n",
    "\n",
    "n = int(input(\"Enter the number of rows\" ))\n",
    "for i in range(0, n,):\n",
    "    for j in range(0, i+1):\n",
    "        print(\"*\", end =\"\")\n",
    "    print()"
   ]
  },
  {
   "cell_type": "code",
   "execution_count": null,
   "metadata": {},
   "outputs": [],
   "source": [
    "# Syntax:\n",
    "# while espression:\n",
    "#        statement(s)"
   ]
  }
 ],
 "metadata": {
  "kernelspec": {
   "display_name": "Python 3",
   "language": "python",
   "name": "python3"
  },
  "language_info": {
   "codemirror_mode": {
    "name": "ipython",
    "version": 3
   },
   "file_extension": ".py",
   "mimetype": "text/x-python",
   "name": "python",
   "nbconvert_exporter": "python",
   "pygments_lexer": "ipython3",
   "version": "3.9.6"
  }
 },
 "nbformat": 4,
 "nbformat_minor": 2
}
