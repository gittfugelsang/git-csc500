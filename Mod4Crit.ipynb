{
 "cells": [
  {
   "cell_type": "code",
   "execution_count": 2,
   "metadata": {},
   "outputs": [
    {
     "name": "stdout",
     "output_type": "stream",
     "text": [
      "\n",
      "Item 1\n",
      "\n",
      "Item 2\n",
      "\n",
      "TOTAL COST\n",
      "Chocolate_Chips 1 @ $3.0 = $3.0\n",
      "Bottled_Water 10 @ $1.0 = $10.0\n",
      "Total: $13.0\n"
     ]
    }
   ],
   "source": [
    "class ItemToPurchase:\n",
    "    def __init__(self, item_name=\"none\", item_price=0.0, item_quantity=0):\n",
    "        self.item_name = item_name\n",
    "        self.item_price = item_price\n",
    "        self.item_quantity = item_quantity\n",
    "\n",
    "    def print_item_cost(self):\n",
    "        total_cost = self.item_price * self.item_quantity\n",
    "        print(f\"{self.item_name} {self.item_quantity} @ ${self.item_price} = ${total_cost}\")\n",
    "        return total_cost\n",
    "\n",
    "def get_item_details(order_number):\n",
    "    print(f\"\\nItem {order_number}\")\n",
    "    item_name = input(\"Enter the item name: \")\n",
    "    item_price = float(input(\"Enter the item price: \"))\n",
    "    item_quantity = int(input(\"Enter the item quantity: \"))\n",
    "    return ItemToPurchase(item_name, item_price, item_quantity)\n",
    "\n",
    "# Example usage:\n",
    "if __name__ == \"__main__\":\n",
    "    item1 = get_item_details(1)\n",
    "    item2 = get_item_details(2)\n",
    "\n",
    "    print(\"\\nTOTAL COST\")\n",
    "    total_cost1 = item1.print_item_cost()\n",
    "    total_cost2 = item2.print_item_cost()\n",
    "\n",
    "    total_cost = total_cost1 + total_cost2\n",
    "    print(f\"Total: ${total_cost}\")\n",
    "\n"
   ]
  },
  {
   "cell_type": "code",
   "execution_count": null,
   "metadata": {},
   "outputs": [],
   "source": []
  }
 ],
 "metadata": {
  "kernelspec": {
   "display_name": "Python 3",
   "language": "python",
   "name": "python3"
  },
  "language_info": {
   "codemirror_mode": {
    "name": "ipython",
    "version": 3
   },
   "file_extension": ".py",
   "mimetype": "text/x-python",
   "name": "python",
   "nbconvert_exporter": "python",
   "pygments_lexer": "ipython3",
   "version": "3.9.6"
  }
 },
 "nbformat": 4,
 "nbformat_minor": 2
}
