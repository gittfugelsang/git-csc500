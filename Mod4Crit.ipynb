{
 "cells": [
  {
   "cell_type": "code",
   "execution_count": 1,
   "metadata": {},
   "outputs": [
    {
     "name": "stdout",
     "output_type": "stream",
     "text": [
      "Bottled Water 10 @ $1 = $10\n"
     ]
    }
   ],
   "source": [
    "class ItemToPurchase:\n",
    "    def __init__(self, item_name=\"none\", item_price=0.0, item_quantity=0):\n",
    "        self.item_name = item_name\n",
    "        self.item_price = item_price\n",
    "        self.item_quantity = item_quantity\n",
    "\n",
    "    def print_item_cost(self):\n",
    "        total_cost = self.item_price * self.item_quantity\n",
    "        print(f\"{self.item_name} {self.item_quantity} @ ${self.item_price} = ${total_cost}\")\n",
    "\n",
    "# Example usage:\n",
    "if __name__ == \"__main__\":\n",
    "    # Creating an item\n",
    "    item1 = ItemToPurchase(\"Bottled Water\", 1, 10)\n",
    "    # Displaying the cost of the item\n",
    "    item1.print_item_cost()\n"
   ]
  }
 ],
 "metadata": {
  "kernelspec": {
   "display_name": "Python 3",
   "language": "python",
   "name": "python3"
  },
  "language_info": {
   "codemirror_mode": {
    "name": "ipython",
    "version": 3
   },
   "file_extension": ".py",
   "mimetype": "text/x-python",
   "name": "python",
   "nbconvert_exporter": "python",
   "pygments_lexer": "ipython3",
   "version": "3.9.6"
  }
 },
 "nbformat": 4,
 "nbformat_minor": 2
}
