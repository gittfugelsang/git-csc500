{
 "cells": [
  {
   "cell_type": "code",
   "execution_count": 1,
   "metadata": {},
   "outputs": [
    {
     "name": "stdout",
     "output_type": "stream",
     "text": [
      "25 + 11 = 36\n",
      "25 - 11 = 14\n"
     ]
    }
   ],
   "source": [
    "# Prompt the user to enter two numbers\n",
    "num1 = int(input(\"Enter the first number: \"))\n",
    "num2 = int(input(\"Enter the second number: \"))\n",
    "    \n",
    "# Calculate the addition of the two numbers\n",
    "addition = num1 + num2\n",
    "# Calculate the subtraction of the two numbers\n",
    "subtraction = num1 - num2\n",
    "    \n",
    "# Print the results\n",
    "print( num1, \"+\", num2, \"=\", addition)\n",
    "print(num1, \"-\", num2, \"=\", subtraction)"
   ]
  },
  {
   "cell_type": "code",
   "execution_count": 3,
   "metadata": {},
   "outputs": [
    {
     "name": "stdout",
     "output_type": "stream",
     "text": [
      "65 * 99 = 6435\n",
      "65 / 99 = 0.6565656565656566\n"
     ]
    }
   ],
   "source": [
    "# Prompt the user to enter two numbers\n",
    "num3 = int(input(\"Enter the first number: \"))\n",
    "num4 = int(input(\"Enter the second number: \"))\n",
    "    \n",
    "# Calculate the multiplication of the two numbers\n",
    "multiplication = num3 * num4\n",
    "# Calculate the division of the two numbers\n",
    "division = num3 / num4\n",
    "    \n",
    "# Print the results\n",
    "print( num3, \"*\", num4, \"=\", multiplication)\n",
    "print(num3, \"/\", num4, \"=\", division)"
   ]
  }
 ],
 "metadata": {
  "kernelspec": {
   "display_name": "Python 3",
   "language": "python",
   "name": "python3"
  },
  "language_info": {
   "codemirror_mode": {
    "name": "ipython",
    "version": 3
   },
   "file_extension": ".py",
   "mimetype": "text/x-python",
   "name": "python",
   "nbconvert_exporter": "python",
   "pygments_lexer": "ipython3",
   "version": "3.9.6"
  }
 },
 "nbformat": 4,
 "nbformat_minor": 2
}
