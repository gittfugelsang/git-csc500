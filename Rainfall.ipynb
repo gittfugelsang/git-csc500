{
 "cells": [
  {
   "cell_type": "code",
   "execution_count": 6,
   "metadata": {},
   "outputs": [
    {
     "name": "stdout",
     "output_type": "stream",
     "text": [
      "\n",
      "Year1\n",
      "Invalid input. Please enter rainfall as a positive number\n",
      "Invalid input. Please enter rainfall as a positive number\n",
      "Invalid input. Please enter rainfall as a positive number\n",
      "\n",
      "Year2\n",
      "\n",
      "Year3\n",
      "\n",
      "Number of months: 36\n",
      "Total inches of rainfall: 284.6 inches\n",
      "Average rainfall per month: 7.91 inches\n"
     ]
    }
   ],
   "source": [
    "def collect_rainfall_data():\n",
    " #Ask the user for the number of years\n",
    "    years = int(input(\"Enter the number of years:\"))\n",
    "    #initialize total rainfall variable in float format\n",
    "    total_rainfall = 0.0\n",
    "\n",
    "    #Loop over each year\n",
    "    for year in range(1, years +1):\n",
    "        print(f\"\\nYear{year}\")\n",
    "        # Loop over each month\n",
    "        for month in range(1, 13):\n",
    "            while True:\n",
    "                try:\n",
    "                    #Get rainfall for each month\n",
    "                    monthly_rainfall = float(input(f\"entertherainfall for month {month}in inches:\"))\n",
    "                    if monthly_rainfall < 0:\n",
    "                        raise ValueError(\"Rainfall cannot be negative.\")\n",
    "                    total_rainfall += monthly_rainfall\n",
    "                    break\n",
    "                except ValueError as e:\n",
    "                    print(\"Invalid input. Please enter rainfall as a positive number\")\n",
    "\n",
    "    \n",
    "    #Calcualte the total number of months\n",
    "    total_months = years * 12\n",
    "    # Calcualte the average rainfall per month\n",
    "    average_rainfall = total_rainfall / total_months\n",
    "\n",
    "    # Display the results\n",
    "    print(f\"\\nNumber of months: {total_months}\")\n",
    "    print(f\"Total inches of rainfall: {total_rainfall} inches\")\n",
    "    print(f\"Average rainfall per month: {average_rainfall:.2f} inches\")\n",
    "\n",
    "#Call function\n",
    "collect_rainfall_data()"
   ]
  }
 ],
 "metadata": {
  "kernelspec": {
   "display_name": "Python 3",
   "language": "python",
   "name": "python3"
  },
  "language_info": {
   "codemirror_mode": {
    "name": "ipython",
    "version": 3
   },
   "file_extension": ".py",
   "mimetype": "text/x-python",
   "name": "python",
   "nbconvert_exporter": "python",
   "pygments_lexer": "ipython3",
   "version": "3.10.12"
  }
 },
 "nbformat": 4,
 "nbformat_minor": 2
}
